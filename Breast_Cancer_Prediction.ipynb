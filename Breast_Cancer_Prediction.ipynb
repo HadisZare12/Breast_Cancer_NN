{
  "nbformat": 4,
  "nbformat_minor": 0,
  "metadata": {
    "colab": {
      "provenance": [],
      "gpuType": "T4"
    },
    "kernelspec": {
      "name": "python3",
      "display_name": "Python 3"
    },
    "language_info": {
      "name": "python"
    },
    "accelerator": "GPU"
  },
  "cells": [
    {
      "cell_type": "code",
      "execution_count": 1,
      "metadata": {
        "id": "DmTt0b_NS43n"
      },
      "outputs": [],
      "source": [
        "import torch\n",
        "import torch.nn as nn\n",
        "import torch.optim as optim\n",
        "from sklearn.datasets import load_breast_cancer\n",
        "from sklearn.model_selection import train_test_split\n",
        "from sklearn.preprocessing import StandardScaler"
      ]
    },
    {
      "cell_type": "markdown",
      "source": [
        " ** Device Configuration **"
      ],
      "metadata": {
        "id": "Wrq2LSv_bo0x"
      }
    },
    {
      "cell_type": "code",
      "source": [
        "#CUDA Availability\n",
        "device = torch.device('cuda' if torch.cuda.is_available() else 'cpu')\n",
        "\n"
      ],
      "metadata": {
        "id": "zDT2bS1GZHSZ"
      },
      "execution_count": 2,
      "outputs": []
    },
    {
      "cell_type": "code",
      "source": [
        "# Data Collection and preprocessing\n",
        "data = load_breast_cancer()\n",
        "X = data.data\n",
        "y = data.target\n"
      ],
      "metadata": {
        "id": "wgqs1QEuEP98"
      },
      "execution_count": 3,
      "outputs": []
    },
    {
      "cell_type": "code",
      "source": [
        "# TRAIN DATA\n",
        "X_train,X_test,y_train,y_test = train_test_split(X,y,test_size=0.2,random_state=42)\n"
      ],
      "metadata": {
        "id": "13nkz4j-FsH0"
      },
      "execution_count": 4,
      "outputs": []
    },
    {
      "cell_type": "code",
      "source": [
        "#Strandardize the Data\n",
        "scaler = StandardScaler()\n",
        "X_train = scaler.fit_transform(X_train)\n",
        "X_test = scaler.transform(X_test)"
      ],
      "metadata": {
        "id": "3MqCa0tVH5X6"
      },
      "execution_count": 5,
      "outputs": []
    },
    {
      "cell_type": "code",
      "source": [
        "# convert data to pytorch tensor\n",
        "X_train = torch.tensor(X_train,dtype=torch.float32).to(device)\n",
        "X_test = torch.tensor(X_test,dtype=torch.float32).to(device)\n",
        "y_train = torch.tensor(y_train,dtype=torch.float32).to(device)\n",
        "y_test = torch.tensor(y_test,dtype=torch.float32).to(device)"
      ],
      "metadata": {
        "id": "t-aUn4eKId43"
      },
      "execution_count": 6,
      "outputs": []
    },
    {
      "cell_type": "markdown",
      "source": [
        "Neural Network Architecture"
      ],
      "metadata": {
        "id": "v8TWcBCZJ3KD"
      }
    },
    {
      "cell_type": "code",
      "source": [
        "class BreastCancerClassifier(nn.Module):\n",
        "\n",
        "    def __init__(self,input_size,hidden_size,output_size):\n",
        "      super(BreastCancerClassifier,self).__init__()\n",
        "      self.fc1 = nn.Linear(input_size,hidden_size)\n",
        "      self.relu = nn.ReLU()\n",
        "      self.fc2 = nn.Linear(hidden_size,output_size)\n",
        "      self.sigmoid = nn.Sigmoid()\n",
        "    def forward(self,x):\n",
        "      out = self.fc1(x)\n",
        "      out = self.relu(out)\n",
        "      out = self.fc2(out)\n",
        "      out = self.sigmoid(out)\n",
        "      return out\n",
        ""
      ],
      "metadata": {
        "id": "SACmwlwrJ2tl"
      },
      "execution_count": 7,
      "outputs": []
    },
    {
      "cell_type": "code",
      "source": [
        "#hyperparameter\n",
        "input_size = X_train.shape[1]\n",
        "hidden_size = 64\n",
        "output_size = 1\n",
        "learning_rate = 0.001\n",
        "num_epochs = 100\n"
      ],
      "metadata": {
        "id": "v2cBrMWAHenJ"
      },
      "execution_count": 8,
      "outputs": []
    },
    {
      "cell_type": "code",
      "source": [
        "#initialize the NN\n",
        "model = BreastCancerClassifier(input_size,hidden_size,output_size).to(device)"
      ],
      "metadata": {
        "id": "DYN9qSLhH7xG"
      },
      "execution_count": 9,
      "outputs": []
    },
    {
      "cell_type": "code",
      "source": [
        "#loss and optimizer\n",
        "criterion = nn.BCELoss()\n",
        "optimizer = optim.Adam(model.parameters(),lr=learning_rate)"
      ],
      "metadata": {
        "id": "JWbjrhYLIPgG"
      },
      "execution_count": 10,
      "outputs": []
    },
    {
      "cell_type": "markdown",
      "source": [
        "Training the Neural Network"
      ],
      "metadata": {
        "id": "Nft-P695Itac"
      }
    },
    {
      "cell_type": "code",
      "source": [
        "for epoch in range(num_epochs):\n",
        "    model.train()\n",
        "\n",
        "    # Forward pass\n",
        "    outputs = model(X_train)\n",
        "    loss = criterion(outputs, y_train.view(-1, 1))\n",
        "\n",
        "    # Backward pass and optimization\n",
        "    optimizer.zero_grad()\n",
        "    loss.backward()\n",
        "    optimizer.step()\n",
        "\n",
        "    #calculate accuracy\n",
        "    with torch.no_grad():\n",
        "        predicted = outputs.round()\n",
        "        correct = (predicted == y_train.view(-1,1)).float().sum()\n",
        "        accuracy = correct/y_train.size(0)\n",
        "    if (epoch+1)%10 == 0:\n",
        "        print(f'Epoch [{epoch+1}/{num_epochs}], Loss: {loss.item():.4f}, Accuracy: {accuracy.item()*100:.2f}%')"
      ],
      "metadata": {
        "colab": {
          "base_uri": "https://localhost:8080/"
        },
        "id": "00u0V-d9IwnM",
        "outputId": "47d1a09a-6da0-48ed-9c4e-af29b71c8dca"
      },
      "execution_count": 12,
      "outputs": [
        {
          "output_type": "stream",
          "name": "stdout",
          "text": [
            "Epoch [10/100], Loss: 0.0965, Accuracy: 97.58%\n",
            "Epoch [20/100], Loss: 0.0902, Accuracy: 98.02%\n",
            "Epoch [30/100], Loss: 0.0848, Accuracy: 98.46%\n",
            "Epoch [40/100], Loss: 0.0802, Accuracy: 98.46%\n",
            "Epoch [50/100], Loss: 0.0761, Accuracy: 98.46%\n",
            "Epoch [60/100], Loss: 0.0726, Accuracy: 98.46%\n",
            "Epoch [70/100], Loss: 0.0694, Accuracy: 98.46%\n",
            "Epoch [80/100], Loss: 0.0666, Accuracy: 98.68%\n",
            "Epoch [90/100], Loss: 0.0640, Accuracy: 98.68%\n",
            "Epoch [100/100], Loss: 0.0617, Accuracy: 98.68%\n"
          ]
        }
      ]
    },
    {
      "cell_type": "markdown",
      "source": [
        "Model Evaluation"
      ],
      "metadata": {
        "id": "6Lccg10YmXeG"
      }
    },
    {
      "cell_type": "code",
      "source": [
        "#eval on training set\n",
        "model.eval()\n",
        "with torch.no_grad():\n",
        "    outputs = model(X_train)\n",
        "    predicted = outputs.round()\n",
        "    correct = (predicted == y_train.view(-1,1)).float().sum()\n",
        "    accuracy = correct/y_train.size(0)\n",
        "    print(f'Training Accuracy: {accuracy.item()*100:.2f}%')"
      ],
      "metadata": {
        "colab": {
          "base_uri": "https://localhost:8080/"
        },
        "id": "fYwG53oGmY-q",
        "outputId": "fb7d634d-3d45-4580-c84f-9153192d07a2"
      },
      "execution_count": 15,
      "outputs": [
        {
          "output_type": "stream",
          "name": "stdout",
          "text": [
            "Training Accuracy: 98.68%\n"
          ]
        }
      ]
    },
    {
      "cell_type": "code",
      "source": [
        "#test data\n",
        "model.eval()\n",
        "with torch.no_grad():\n",
        "    outputs = model(X_test)\n",
        "    predicted = outputs.round()\n",
        "    correct = (predicted == y_test.view(-1,1)).float().sum()\n",
        "    accuracy = correct/y_test.size(0)\n",
        "    print(f'Testing Accuracy: {accuracy.item()*100:.2f}%')"
      ],
      "metadata": {
        "colab": {
          "base_uri": "https://localhost:8080/"
        },
        "id": "BVWKm_Npm5UC",
        "outputId": "2d5a5c78-89fd-41fa-d424-b8910ab4cd18"
      },
      "execution_count": 16,
      "outputs": [
        {
          "output_type": "stream",
          "name": "stdout",
          "text": [
            "Testing Accuracy: 99.12%\n"
          ]
        }
      ]
    }
  ]
}